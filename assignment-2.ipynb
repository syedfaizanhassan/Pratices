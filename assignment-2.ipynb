{
 "cells": [
  {
   "cell_type": "code",
   "execution_count": 4,
   "metadata": {},
   "outputs": [
    {
     "name": "stdout",
     "output_type": "stream",
     "text": [
      "\t\tSSC-I Marksheet\n",
      "Enter your English Marks out of 75 : 62\n",
      "Enter your Pakistan Studies Marks out of 75 : 70\n",
      "Enter your Chemistry Marks out of 100 : 80\n",
      "Enter your Sindhi Marks out of 75 : 60\n",
      "Enter your Computer Science Marks out of 100 : 88\n",
      "Marks Obtained =  360\n",
      "Your Percentage = 84.70588235294117\n",
      "Congratulations! You have secured Grade A+\n"
     ]
    }
   ],
   "source": [
    "print(\"\\t\\tSSC-I Marksheet\")\n",
    "English = int(input(\"Enter your English Marks out of 75 : \"))\n",
    "Pakistan_Studies = int(input(\"Enter your Pakistan Studies Marks out of 75 : \"))\n",
    "Chemistry = int(input(\"Enter your Chemistry Marks out of 100 : \"))\n",
    "Sindhi = int(input(\"Enter your Sindhi Marks out of 75 : \"))\n",
    "Computer_Science = int(input(\"Enter your Computer Science Marks out of 100 : \"))\n",
    "\n",
    "Total_Marks = English+Pakistan_Studies+Chemistry+Sindhi+Computer_Science\n",
    "Percentage = (Total_Marks/425)*100\n",
    "print(\"Marks Obtained = \" + \" \" + str(Total_Marks))\n",
    "print(\"Your Percentage =\" + \" \" + str(Percentage))\n",
    "if Percentage >= 80 and Percentage <=100:\n",
    " print(\"Congratulations! You have secured Grade A+\")\n",
    "elif Percentage <80 and Percentage >=70:\n",
    " print(\"Congratulations! You have secured Grade A\")\n",
    "elif Percentage <70 and Percentage >=60:\n",
    " print(\"Congratulations! You have secured Grade B\")\n",
    "elif Percentage <60 and Percentage >=50:\n",
    " print(\"Congratulations! You have secured Grade C\")\n",
    "elif Percentage <50 and Percentage >=40:\n",
    " print(\"Congratulations! You have secured Grade D\")\n",
    "elif Percentage <40 and Percentage >=33:\n",
    " print(\"Congratulations! You have secured Grade E\")\n",
    "elif Percentage <33 and Percentage >=0:\n",
    " print(\"You have Failed in Examination\")"
   ]
  },
  {
   "cell_type": "code",
   "execution_count": 20,
   "metadata": {},
   "outputs": [
    {
     "name": "stdout",
     "output_type": "stream",
     "text": [
      "Enter a number : 5\n",
      "Odd Number\n"
     ]
    }
   ],
   "source": [
    "num = float(input(\"Enter a number : \"))\n",
    "if num%2 == 0:\n",
    " print(\"Even Number\")\n",
    "else:\n",
    " print(\"Odd Number\")"
   ]
  },
  {
   "cell_type": "code",
   "execution_count": 14,
   "metadata": {},
   "outputs": [
    {
     "name": "stdout",
     "output_type": "stream",
     "text": [
      "List Length =  10\n"
     ]
    }
   ],
   "source": [
    "l = [1,2,3,4,5,6,7,8,9,10]\n",
    "print(\"List Length = \", len(l))"
   ]
  },
  {
   "cell_type": "code",
   "execution_count": 19,
   "metadata": {},
   "outputs": [
    {
     "name": "stdout",
     "output_type": "stream",
     "text": [
      "List Sum =  55\n"
     ]
    }
   ],
   "source": [
    "l = [1,2,3,4,5,6,7,8,9,10]\n",
    "print(\"List Sum = \", sum(l))"
   ]
  },
  {
   "cell_type": "code",
   "execution_count": 23,
   "metadata": {},
   "outputs": [
    {
     "name": "stdout",
     "output_type": "stream",
     "text": [
      "List Largest Numeric =  10\n"
     ]
    }
   ],
   "source": [
    "l = [1,2,3,4,5,6,7,8,9,10]\n",
    "print(\"List Largest Numeric = \", max(l))"
   ]
  },
  {
   "cell_type": "code",
   "execution_count": 27,
   "metadata": {},
   "outputs": [
    {
     "name": "stdout",
     "output_type": "stream",
     "text": [
      "1\n",
      "1\n",
      "2\n",
      "3\n"
     ]
    }
   ],
   "source": [
    "a = [1, 1, 2, 3, 5, 8, 13, 21, 34, 55, 89]\n",
    "for x in a: \n",
    " if x < 5:\n",
    "  print(x)"
   ]
  }
 ],
 "metadata": {
  "kernelspec": {
   "display_name": "Python 3",
   "language": "python",
   "name": "python3"
  },
  "language_info": {
   "codemirror_mode": {
    "name": "ipython",
    "version": 3
   },
   "file_extension": ".py",
   "mimetype": "text/x-python",
   "name": "python",
   "nbconvert_exporter": "python",
   "pygments_lexer": "ipython3",
   "version": "3.7.4"
  }
 },
 "nbformat": 4,
 "nbformat_minor": 2
}
