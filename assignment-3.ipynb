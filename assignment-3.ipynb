{
 "cells": [
  {
   "cell_type": "code",
   "execution_count": 2,
   "metadata": {},
   "outputs": [
    {
     "name": "stdout",
     "output_type": "stream",
     "text": [
      "First Value = 15\n",
      "Operator = *\n",
      "Second Value = 8\n",
      "120.0 ans\n"
     ]
    }
   ],
   "source": [
    "num1 =float(input('First Value = '))\n",
    "operator = input('Operator = ')\n",
    "num2 =float(input('Second Value = '))\n",
    "\n",
    "if operator == '+' :\n",
    "    num = num1 + num2\n",
    "    print(num,'ans')\n",
    "elif operator == '-' :\n",
    "    num = num1 - num2\n",
    "    print(num,'ans')\n",
    "elif operator == '*' :\n",
    "    num = num1 * num2\n",
    "    print(num,'ans')\n",
    "elif operator == '/' :\n",
    "    num = num1 // num2\n",
    "    print(num,'ans')\n",
    "elif operator == '^' :\n",
    "    num = num1 ** num2\n",
    "    print(num,'ans')    \n",
    "else :\n",
    "    print('Invalid Value')"
   ]
  },
  {
   "cell_type": "code",
   "execution_count": 3,
   "metadata": {},
   "outputs": [
    {
     "name": "stdout",
     "output_type": "stream",
     "text": [
      "17  = Numeric Values \n"
     ]
    }
   ],
   "source": [
    "list = [ \"Ahmed\", \"Saif\", \"Rohail\", 17 ] \n",
    "\n",
    "for x in list: \n",
    "    if type(x) == int or type(x) == float: \n",
    "     print (x, \" = Numeric Values \")\n",
    "     break\n",
    "else:\n",
    "  print (\" No Numeric Values \")"
   ]
  },
  {
   "cell_type": "code",
   "execution_count": 6,
   "metadata": {},
   "outputs": [
    {
     "name": "stdout",
     "output_type": "stream",
     "text": [
      "{'First Name': 'Faizan', 'Last Name': 'Dabeer ul Hassan', 'Address': 'Shadman Town, Karachi'}\n"
     ]
    }
   ],
   "source": [
    "dic = {\n",
    "    \"First Name\" : \"Faizan\", \n",
    "    \"Last Name\" : \"Dabeer ul Hassan\"\n",
    "}\n",
    "dic[\"Address\"] = \"Shadman Town, Karachi\"\n",
    "print(dic)"
   ]
  },
  {
   "cell_type": "code",
   "execution_count": 9,
   "metadata": {},
   "outputs": [
    {
     "name": "stdout",
     "output_type": "stream",
     "text": [
      "Sum: 90\n"
     ]
    }
   ],
   "source": [
    "z = 0\n",
    "dic = {\n",
    "    \"N1\" : 17,\n",
    "    \"N2\" : 10,\n",
    "    \"N3\" : 63,\n",
    "    \"N4\" : \"1000\"\n",
    "}\n",
    "for x in dic.values():\n",
    "     if type(x) == int or type(x)== float:\n",
    "         z = z + x\n",
    "print(\"Sum:\", z)"
   ]
  },
  {
   "cell_type": "code",
   "execution_count": 10,
   "metadata": {},
   "outputs": [
    {
     "name": "stdout",
     "output_type": "stream",
     "text": [
      "Duplicate 46\n",
      "Duplicate 63\n",
      "Duplicate 17\n",
      "Duplicate 46\n",
      "Duplicate 63\n",
      "Duplicate 17\n"
     ]
    }
   ],
   "source": [
    "list = [ 46, 63, 10, 17, 46, 63, 17 ] \n",
    "for x in list:\n",
    "    if list.count(x) > 1:\n",
    "     print(\"Duplicate\", x)"
   ]
  },
  {
   "cell_type": "code",
   "execution_count": 14,
   "metadata": {},
   "outputs": [
    {
     "name": "stdout",
     "output_type": "stream",
     "text": [
      "3 : Exists\n"
     ]
    }
   ],
   "source": [
    "dic = { 1: \"key1\",\n",
    "            2: \"key2\",\n",
    "            3: \"key3\"}\n",
    "\n",
    "given_key = 3\n",
    "\n",
    "for key in dic.keys():\n",
    "    if key == given_key:\n",
    "        print(key,\": Exists\")"
   ]
  }
 ],
 "metadata": {
  "kernelspec": {
   "display_name": "Python 3",
   "language": "python",
   "name": "python3"
  },
  "language_info": {
   "codemirror_mode": {
    "name": "ipython",
    "version": 3
   },
   "file_extension": ".py",
   "mimetype": "text/x-python",
   "name": "python",
   "nbconvert_exporter": "python",
   "pygments_lexer": "ipython3",
   "version": "3.7.4"
  }
 },
 "nbformat": 4,
 "nbformat_minor": 2
}
